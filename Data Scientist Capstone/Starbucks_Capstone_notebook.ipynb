{
 "cells": [
  {
   "cell_type": "markdown",
   "metadata": {},
   "source": [
    "# Starbucks Capstone Challenge\n",
    "\n",
    "### Introduction\n",
    "\n",
    "This data set contains simulated data that mimics customer behavior on the Starbucks rewards mobile app. Once every few days, Starbucks sends out an offer to users of the mobile app. An offer can be merely an advertisement for a drink or an actual offer such as a discount or BOGO (buy one get one free). Some users might not receive any offer during certain weeks. \n",
    "\n",
    "Not all users receive the same offer, and that is the challenge to solve with this data set.\n",
    "\n",
    "Your task is to combine transaction, demographic and offer data to determine which demographic groups respond best to which offer type. This data set is a simplified version of the real Starbucks app because the underlying simulator only has one product whereas Starbucks actually sells dozens of products.\n",
    "\n",
    "Every offer has a validity period before the offer expires. As an example, a BOGO offer might be valid for only 5 days. You'll see in the data set that informational offers have a validity period even though these ads are merely providing information about a product; for example, if an informational offer has 7 days of validity, you can assume the customer is feeling the influence of the offer for 7 days after receiving the advertisement.\n",
    "\n",
    "You'll be given transactional data showing user purchases made on the app including the timestamp of purchase and the amount of money spent on a purchase. This transactional data also has a record for each offer that a user receives as well as a record for when a user actually views the offer. There are also records for when a user completes an offer. \n",
    "\n",
    "Keep in mind as well that someone using the app might make a purchase through the app without having received an offer or seen an offer.\n",
    "\n",
    "### Example\n",
    "\n",
    "To give an example, a user could receive a discount offer buy 10 dollars get 2 off on Monday. The offer is valid for 10 days from receipt. If the customer accumulates at least 10 dollars in purchases during the validity period, the customer completes the offer.\n",
    "\n",
    "However, there are a few things to watch out for in this data set. Customers do not opt into the offers that they receive; in other words, a user can receive an offer, never actually view the offer, and still complete the offer. For example, a user might receive the \"buy 10 dollars get 2 dollars off offer\", but the user never opens the offer during the 10 day validity period. The customer spends 15 dollars during those ten days. There will be an offer completion record in the data set; however, the customer was not influenced by the offer because the customer never viewed the offer.\n",
    "\n",
    "### Cleaning\n",
    "\n",
    "This makes data cleaning especially important and tricky.\n",
    "\n",
    "You'll also want to take into account that some demographic groups will make purchases even if they don't receive an offer. From a business perspective, if a customer is going to make a 10 dollar purchase without an offer anyway, you wouldn't want to send a buy 10 dollars get 2 dollars off offer. You'll want to try to assess what a certain demographic group will buy when not receiving any offers.\n",
    "\n",
    "### Final Advice\n",
    "\n",
    "Because this is a capstone project, you are free to analyze the data any way you see fit. For example, you could build a machine learning model that predicts how much someone will spend based on demographics and offer type. Or you could build a model that predicts whether or not someone will respond to an offer. Or, you don't need to build a machine learning model at all. You could develop a set of heuristics that determine what offer you should send to each customer (i.e., 75 percent of women customers who were 35 years old responded to offer A vs 40 percent from the same demographic to offer B, so send offer A)."
   ]
  },
  {
   "cell_type": "markdown",
   "metadata": {},
   "source": [
    "# Data Sets\n",
    "\n",
    "The data is contained in three files:\n",
    "\n",
    "* portfolio.json - containing offer ids and meta data about each offer (duration, type, etc.)\n",
    "* profile.json - demographic data for each customer\n",
    "* transcript.json - records for transactions, offers received, offers viewed, and offers completed\n",
    "\n",
    "Here is the schema and explanation of each variable in the files:\n",
    "\n",
    "**portfolio.json**\n",
    "* id (string) - offer id\n",
    "* offer_type (string) - type of offer ie BOGO, discount, informational\n",
    "* difficulty (int) - minimum required spend to complete an offer\n",
    "* reward (int) - reward given for completing an offer\n",
    "* duration (int) - time for offer to be open, in days\n",
    "* channels (list of strings)\n",
    "\n",
    "**profile.json**\n",
    "* age (int) - age of the customer \n",
    "* became_member_on (int) - date when customer created an app account\n",
    "* gender (str) - gender of the customer (note some entries contain 'O' for other rather than M or F)\n",
    "* id (str) - customer id\n",
    "* income (float) - customer's income\n",
    "\n",
    "**transcript.json**\n",
    "* event (str) - record description (ie transaction, offer received, offer viewed, etc.)\n",
    "* person (str) - customer id\n",
    "* time (int) - time in hours since start of test. The data begins at time t=0\n",
    "* value - (dict of strings) - either an offer id or transaction amount depending on the record\n",
    "\n",
    "**Note:** If you are using the workspace, you will need to go to the terminal and run the command `conda update pandas` before reading in the files. This is because the version of pandas in the workspace cannot read in the transcript.json file correctly, but the newest version of pandas can. You can access the terminal from the orange icon in the top left of this notebook.  \n",
    "\n",
    "You can see how to access the terminal and how the install works using the two images below.  First you need to access the terminal:\n",
    "\n",
    "<img src=\"pic1.png\"/>\n",
    "\n",
    "Then you will want to run the above command:\n",
    "\n",
    "<img src=\"pic2.png\"/>\n",
    "\n",
    "Finally, when you enter back into the notebook (use the jupyter icon again), you should be able to run the below cell without any errors."
   ]
  },
  {
   "cell_type": "markdown",
   "metadata": {},
   "source": [
    "#### In this project, I want to see which kind of customer used the offers sent by the Starbucks app. To solve this problem, I will firstly run exploratory data analysis, then do some data cleaning. After I obtain reliable data set, I will use the data set to make plots to answer my question and write a blog about it.  "
   ]
  },
  {
   "cell_type": "code",
   "execution_count": 1,
   "metadata": {},
   "outputs": [],
   "source": [
    "import pandas as pd\n",
    "import numpy as np\n",
    "import matplotlib.pyplot as plt\n",
    "%matplotlib inline\n",
    "pd.set_option('max_colwidth', None)\n",
    "import warnings\n",
    "warnings.filterwarnings('ignore')\n",
    "# read in the json files\n",
    "portfolio = pd.read_json('data/portfolio.json', orient='records', lines=True)\n",
    "profile = pd.read_json('data/profile.json', orient='records', lines=True)\n",
    "transcript = pd.read_json('data/transcript.json', orient='records', lines=True)"
   ]
  },
  {
   "cell_type": "markdown",
   "metadata": {},
   "source": [
    "# Exploratory Data Analysis"
   ]
  },
  {
   "cell_type": "markdown",
   "metadata": {},
   "source": [
    "## Profile"
   ]
  },
  {
   "cell_type": "code",
   "execution_count": 2,
   "metadata": {},
   "outputs": [
    {
     "data": {
      "text/html": [
       "<div>\n",
       "<style scoped>\n",
       "    .dataframe tbody tr th:only-of-type {\n",
       "        vertical-align: middle;\n",
       "    }\n",
       "\n",
       "    .dataframe tbody tr th {\n",
       "        vertical-align: top;\n",
       "    }\n",
       "\n",
       "    .dataframe thead th {\n",
       "        text-align: right;\n",
       "    }\n",
       "</style>\n",
       "<table border=\"1\" class=\"dataframe\">\n",
       "  <thead>\n",
       "    <tr style=\"text-align: right;\">\n",
       "      <th></th>\n",
       "      <th>gender</th>\n",
       "      <th>age</th>\n",
       "      <th>id</th>\n",
       "      <th>became_member_on</th>\n",
       "      <th>income</th>\n",
       "    </tr>\n",
       "  </thead>\n",
       "  <tbody>\n",
       "    <tr>\n",
       "      <th>0</th>\n",
       "      <td>None</td>\n",
       "      <td>118</td>\n",
       "      <td>68be06ca386d4c31939f3a4f0e3dd783</td>\n",
       "      <td>20170212</td>\n",
       "      <td>NaN</td>\n",
       "    </tr>\n",
       "    <tr>\n",
       "      <th>1</th>\n",
       "      <td>F</td>\n",
       "      <td>55</td>\n",
       "      <td>0610b486422d4921ae7d2bf64640c50b</td>\n",
       "      <td>20170715</td>\n",
       "      <td>112000.0</td>\n",
       "    </tr>\n",
       "    <tr>\n",
       "      <th>2</th>\n",
       "      <td>None</td>\n",
       "      <td>118</td>\n",
       "      <td>38fe809add3b4fcf9315a9694bb96ff5</td>\n",
       "      <td>20180712</td>\n",
       "      <td>NaN</td>\n",
       "    </tr>\n",
       "    <tr>\n",
       "      <th>3</th>\n",
       "      <td>F</td>\n",
       "      <td>75</td>\n",
       "      <td>78afa995795e4d85b5d9ceeca43f5fef</td>\n",
       "      <td>20170509</td>\n",
       "      <td>100000.0</td>\n",
       "    </tr>\n",
       "    <tr>\n",
       "      <th>4</th>\n",
       "      <td>None</td>\n",
       "      <td>118</td>\n",
       "      <td>a03223e636434f42ac4c3df47e8bac43</td>\n",
       "      <td>20170804</td>\n",
       "      <td>NaN</td>\n",
       "    </tr>\n",
       "  </tbody>\n",
       "</table>\n",
       "</div>"
      ],
      "text/plain": [
       "  gender  age                                id  became_member_on    income\n",
       "0   None  118  68be06ca386d4c31939f3a4f0e3dd783          20170212       NaN\n",
       "1      F   55  0610b486422d4921ae7d2bf64640c50b          20170715  112000.0\n",
       "2   None  118  38fe809add3b4fcf9315a9694bb96ff5          20180712       NaN\n",
       "3      F   75  78afa995795e4d85b5d9ceeca43f5fef          20170509  100000.0\n",
       "4   None  118  a03223e636434f42ac4c3df47e8bac43          20170804       NaN"
      ]
     },
     "execution_count": 2,
     "metadata": {},
     "output_type": "execute_result"
    }
   ],
   "source": [
    "# Check the profile data set\n",
    "profile.head()"
   ]
  },
  {
   "cell_type": "code",
   "execution_count": 3,
   "metadata": {},
   "outputs": [
    {
     "name": "stdout",
     "output_type": "stream",
     "text": [
      "[None 'F' 'M' 'O']\n",
      "3\n",
      "0.012470588235294117\n"
     ]
    }
   ],
   "source": [
    "# Check the ratio of missing gender in profile\n",
    "print(profile['gender'].unique())\n",
    "print(profile['gender'].nunique())\n",
    "print(profile[profile['gender']=='O'].shape[0]/profile.shape[0])"
   ]
  },
  {
   "cell_type": "code",
   "execution_count": 4,
   "metadata": {},
   "outputs": [
    {
     "name": "stdout",
     "output_type": "stream",
     "text": [
      "0\n",
      "88.0\n"
     ]
    },
    {
     "data": {
      "image/png": "[encoded data removed]",
      "text/plain": [
       "<Figure size 432x288 with 1 Axes>"
      ]
     },
     "metadata": {
      "needs_background": "light"
     },
     "output_type": "display_data"
    }
   ],
   "source": [
    "# Check whether there is nan in age and whether there are outliers in profile\n",
    "print(profile['age'].isnull().sum())\n",
    "plt.hist(profile['age']);\n",
    "print(profile['age'].quantile(0.85))"
   ]
  },
  {
   "cell_type": "code",
   "execution_count": 5,
   "metadata": {},
   "outputs": [
    {
     "name": "stdout",
     "output_type": "stream",
     "text": [
      "0\n"
     ]
    }
   ],
   "source": [
    "# Check whether there is nan in id in profile\n",
    "print(profile['id'].isnull().sum())"
   ]
  },
  {
   "cell_type": "code",
   "execution_count": 6,
   "metadata": {},
   "outputs": [
    {
     "name": "stdout",
     "output_type": "stream",
     "text": [
      "int64\n"
     ]
    }
   ],
   "source": [
    "# Check whether became_member_on has nan and the data type in profile\n",
    "print(profile['became_member_on'].dtype)\n",
    "profile['became_member_on']=pd.to_datetime(profile['became_member_on'],format='%Y%m%d')"
   ]
  },
  {
   "cell_type": "code",
   "execution_count": 7,
   "metadata": {},
   "outputs": [
    {
     "data": {
      "text/plain": [
       "0"
      ]
     },
     "execution_count": 7,
     "metadata": {},
     "output_type": "execute_result"
    }
   ],
   "source": [
    "# Check whether became_member_on has nan and the data type in profile\n",
    "profile['became_member_on'].isnull().sum()"
   ]
  },
  {
   "cell_type": "code",
   "execution_count": 8,
   "metadata": {},
   "outputs": [
    {
     "name": "stdout",
     "output_type": "stream",
     "text": [
      "2175\n"
     ]
    }
   ],
   "source": [
    "# Check whether income has nan and use mean income to fill in the missing values in profile\n",
    "print(profile['income'].isnull().sum())\n",
    "income_mean=round(profile['income'].mean(),1)\n",
    "profile['income']=profile['income'].fillna(income_mean)"
   ]
  },
  {
   "cell_type": "code",
   "execution_count": 9,
   "metadata": {},
   "outputs": [],
   "source": [
    "# Drop the data which has gender equals to Other and data which has age larger than 80\n",
    "profile=profile[profile['gender']!='O']\n",
    "profile=profile[profile['age']<=80]"
   ]
  },
  {
   "cell_type": "code",
   "execution_count": 10,
   "metadata": {},
   "outputs": [],
   "source": [
    "# Save the year of become_member_on column in profile\n",
    "profile['became_member_on']=profile['became_member_on'].dt.year"
   ]
  },
  {
   "cell_type": "code",
   "execution_count": 11,
   "metadata": {},
   "outputs": [],
   "source": [
    "# Change the id column to customer_id\n",
    "profile=profile.rename(columns={'id':'customer_id'})"
   ]
  },
  {
   "cell_type": "code",
   "execution_count": 12,
   "metadata": {},
   "outputs": [
    {
     "data": {
      "text/html": [
       "<div>\n",
       "<style scoped>\n",
       "    .dataframe tbody tr th:only-of-type {\n",
       "        vertical-align: middle;\n",
       "    }\n",
       "\n",
       "    .dataframe tbody tr th {\n",
       "        vertical-align: top;\n",
       "    }\n",
       "\n",
       "    .dataframe thead th {\n",
       "        text-align: right;\n",
       "    }\n",
       "</style>\n",
       "<table border=\"1\" class=\"dataframe\">\n",
       "  <thead>\n",
       "    <tr style=\"text-align: right;\">\n",
       "      <th></th>\n",
       "      <th>age</th>\n",
       "      <th>became_member_on</th>\n",
       "      <th>income</th>\n",
       "    </tr>\n",
       "  </thead>\n",
       "  <tbody>\n",
       "    <tr>\n",
       "      <th>count</th>\n",
       "      <td>13639.000000</td>\n",
       "      <td>13639.000000</td>\n",
       "      <td>13639.000000</td>\n",
       "    </tr>\n",
       "    <tr>\n",
       "      <th>mean</th>\n",
       "      <td>52.082557</td>\n",
       "      <td>2016.619620</td>\n",
       "      <td>64978.370848</td>\n",
       "    </tr>\n",
       "    <tr>\n",
       "      <th>std</th>\n",
       "      <td>15.577298</td>\n",
       "      <td>1.205909</td>\n",
       "      <td>21507.677446</td>\n",
       "    </tr>\n",
       "    <tr>\n",
       "      <th>min</th>\n",
       "      <td>18.000000</td>\n",
       "      <td>2013.000000</td>\n",
       "      <td>30000.000000</td>\n",
       "    </tr>\n",
       "    <tr>\n",
       "      <th>25%</th>\n",
       "      <td>41.000000</td>\n",
       "      <td>2016.000000</td>\n",
       "      <td>48000.000000</td>\n",
       "    </tr>\n",
       "    <tr>\n",
       "      <th>50%</th>\n",
       "      <td>54.000000</td>\n",
       "      <td>2017.000000</td>\n",
       "      <td>63000.000000</td>\n",
       "    </tr>\n",
       "    <tr>\n",
       "      <th>75%</th>\n",
       "      <td>64.000000</td>\n",
       "      <td>2017.000000</td>\n",
       "      <td>79000.000000</td>\n",
       "    </tr>\n",
       "    <tr>\n",
       "      <th>max</th>\n",
       "      <td>80.000000</td>\n",
       "      <td>2018.000000</td>\n",
       "      <td>120000.000000</td>\n",
       "    </tr>\n",
       "  </tbody>\n",
       "</table>\n",
       "</div>"
      ],
      "text/plain": [
       "                age  became_member_on         income\n",
       "count  13639.000000      13639.000000   13639.000000\n",
       "mean      52.082557       2016.619620   64978.370848\n",
       "std       15.577298          1.205909   21507.677446\n",
       "min       18.000000       2013.000000   30000.000000\n",
       "25%       41.000000       2016.000000   48000.000000\n",
       "50%       54.000000       2017.000000   63000.000000\n",
       "75%       64.000000       2017.000000   79000.000000\n",
       "max       80.000000       2018.000000  120000.000000"
      ]
     },
     "execution_count": 12,
     "metadata": {},
     "output_type": "execute_result"
    }
   ],
   "source": [
    "# Check statistic of the data\n",
    "profile.describe()"
   ]
  },
  {
   "cell_type": "code",
   "execution_count": 13,
   "metadata": {},
   "outputs": [
    {
     "data": {
      "text/plain": [
       "0"
      ]
     },
     "execution_count": 13,
     "metadata": {},
     "output_type": "execute_result"
    }
   ],
   "source": [
    "# Check whether there are duplicated data\n",
    "profile.duplicated().sum()"
   ]
  },
  {
   "cell_type": "code",
   "execution_count": 14,
   "metadata": {},
   "outputs": [
    {
     "data": {
      "text/html": [
       "<div>\n",
       "<style scoped>\n",
       "    .dataframe tbody tr th:only-of-type {\n",
       "        vertical-align: middle;\n",
       "    }\n",
       "\n",
       "    .dataframe tbody tr th {\n",
       "        vertical-align: top;\n",
       "    }\n",
       "\n",
       "    .dataframe thead th {\n",
       "        text-align: right;\n",
       "    }\n",
       "</style>\n",
       "<table border=\"1\" class=\"dataframe\">\n",
       "  <thead>\n",
       "    <tr style=\"text-align: right;\">\n",
       "      <th></th>\n",
       "      <th>gender</th>\n",
       "      <th>age</th>\n",
       "      <th>customer_id</th>\n",
       "      <th>became_member_on</th>\n",
       "      <th>income</th>\n",
       "    </tr>\n",
       "  </thead>\n",
       "  <tbody>\n",
       "    <tr>\n",
       "      <th>1</th>\n",
       "      <td>F</td>\n",
       "      <td>55</td>\n",
       "      <td>0610b486422d4921ae7d2bf64640c50b</td>\n",
       "      <td>2017</td>\n",
       "      <td>112000.0</td>\n",
       "    </tr>\n",
       "    <tr>\n",
       "      <th>3</th>\n",
       "      <td>F</td>\n",
       "      <td>75</td>\n",
       "      <td>78afa995795e4d85b5d9ceeca43f5fef</td>\n",
       "      <td>2017</td>\n",
       "      <td>100000.0</td>\n",
       "    </tr>\n",
       "    <tr>\n",
       "      <th>5</th>\n",
       "      <td>M</td>\n",
       "      <td>68</td>\n",
       "      <td>e2127556f4f64592b11af22de27a7932</td>\n",
       "      <td>2018</td>\n",
       "      <td>70000.0</td>\n",
       "    </tr>\n",
       "    <tr>\n",
       "      <th>8</th>\n",
       "      <td>M</td>\n",
       "      <td>65</td>\n",
       "      <td>389bc3fa690240e798340f5a15918d5c</td>\n",
       "      <td>2018</td>\n",
       "      <td>53000.0</td>\n",
       "    </tr>\n",
       "    <tr>\n",
       "      <th>12</th>\n",
       "      <td>M</td>\n",
       "      <td>58</td>\n",
       "      <td>2eeac8d8feae4a8cad5a6af0499a211d</td>\n",
       "      <td>2017</td>\n",
       "      <td>51000.0</td>\n",
       "    </tr>\n",
       "  </tbody>\n",
       "</table>\n",
       "</div>"
      ],
      "text/plain": [
       "   gender  age                       customer_id  became_member_on    income\n",
       "1       F   55  0610b486422d4921ae7d2bf64640c50b              2017  112000.0\n",
       "3       F   75  78afa995795e4d85b5d9ceeca43f5fef              2017  100000.0\n",
       "5       M   68  e2127556f4f64592b11af22de27a7932              2018   70000.0\n",
       "8       M   65  389bc3fa690240e798340f5a15918d5c              2018   53000.0\n",
       "12      M   58  2eeac8d8feae4a8cad5a6af0499a211d              2017   51000.0"
      ]
     },
     "execution_count": 14,
     "metadata": {},
     "output_type": "execute_result"
    }
   ],
   "source": [
    "# Check the profile data set one more time\n",
    "profile.head()"
   ]
  },
  {
   "cell_type": "code",
   "execution_count": 15,
   "metadata": {},
   "outputs": [
    {
     "data": {
      "text/html": [
       "<div>\n",
       "<style scoped>\n",
       "    .dataframe tbody tr th:only-of-type {\n",
       "        vertical-align: middle;\n",
       "    }\n",
       "\n",
       "    .dataframe tbody tr th {\n",
       "        vertical-align: top;\n",
       "    }\n",
       "\n",
       "    .dataframe thead th {\n",
       "        text-align: right;\n",
       "    }\n",
       "</style>\n",
       "<table border=\"1\" class=\"dataframe\">\n",
       "  <thead>\n",
       "    <tr style=\"text-align: right;\">\n",
       "      <th></th>\n",
       "      <th>age</th>\n",
       "      <th>became_member_on</th>\n",
       "      <th>income</th>\n",
       "    </tr>\n",
       "  </thead>\n",
       "  <tbody>\n",
       "    <tr>\n",
       "      <th>count</th>\n",
       "      <td>13639.000000</td>\n",
       "      <td>13639.000000</td>\n",
       "      <td>13639.000000</td>\n",
       "    </tr>\n",
       "    <tr>\n",
       "      <th>mean</th>\n",
       "      <td>52.082557</td>\n",
       "      <td>2016.619620</td>\n",
       "      <td>64978.370848</td>\n",
       "    </tr>\n",
       "    <tr>\n",
       "      <th>std</th>\n",
       "      <td>15.577298</td>\n",
       "      <td>1.205909</td>\n",
       "      <td>21507.677446</td>\n",
       "    </tr>\n",
       "    <tr>\n",
       "      <th>min</th>\n",
       "      <td>18.000000</td>\n",
       "      <td>2013.000000</td>\n",
       "      <td>30000.000000</td>\n",
       "    </tr>\n",
       "    <tr>\n",
       "      <th>25%</th>\n",
       "      <td>41.000000</td>\n",
       "      <td>2016.000000</td>\n",
       "      <td>48000.000000</td>\n",
       "    </tr>\n",
       "    <tr>\n",
       "      <th>50%</th>\n",
       "      <td>54.000000</td>\n",
       "      <td>2017.000000</td>\n",
       "      <td>63000.000000</td>\n",
       "    </tr>\n",
       "    <tr>\n",
       "      <th>75%</th>\n",
       "      <td>64.000000</td>\n",
       "      <td>2017.000000</td>\n",
       "      <td>79000.000000</td>\n",
       "    </tr>\n",
       "    <tr>\n",
       "      <th>max</th>\n",
       "      <td>80.000000</td>\n",
       "      <td>2018.000000</td>\n",
       "      <td>120000.000000</td>\n",
       "    </tr>\n",
       "  </tbody>\n",
       "</table>\n",
       "</div>"
      ],
      "text/plain": [
       "                age  became_member_on         income\n",
       "count  13639.000000      13639.000000   13639.000000\n",
       "mean      52.082557       2016.619620   64978.370848\n",
       "std       15.577298          1.205909   21507.677446\n",
       "min       18.000000       2013.000000   30000.000000\n",
       "25%       41.000000       2016.000000   48000.000000\n",
       "50%       54.000000       2017.000000   63000.000000\n",
       "75%       64.000000       2017.000000   79000.000000\n",
       "max       80.000000       2018.000000  120000.000000"
      ]
     },
     "execution_count": 15,
     "metadata": {},
     "output_type": "execute_result"
    }
   ],
   "source": [
    "# Check the general info of the cleaned data set\n",
    "profile.describe()"
   ]
  },
  {
   "cell_type": "code",
   "execution_count": 16,
   "metadata": {},
   "outputs": [
    {
     "name": "stdout",
     "output_type": "stream",
     "text": [
      "8069\n",
      "5570\n",
      "1.45\n"
     ]
    }
   ],
   "source": [
    "# Check the ratio of number of males to females in the data set\n",
    "print(profile[profile['gender']=='M'].shape[0])\n",
    "print(profile[profile['gender']=='F'].shape[0])\n",
    "print(round(profile[profile['gender']=='M'].shape[0]/profile[profile['gender']=='F'].shape[0],2))"
   ]
  },
  {
   "cell_type": "markdown",
   "metadata": {},
   "source": [
    "#### From the data above it is not hard to see customers become members from 2013 to 2018. There are 13639 customers, the ratio of male to female is about 1.5. We need to notice this is an imbalanced data set.  "
   ]
  },
  {
   "cell_type": "code",
   "execution_count": 17,
   "metadata": {},
   "outputs": [
    {
     "data": {
      "image/png": "[encoded data removed]",
      "text/plain": [
       "<Figure size 1152x648 with 2 Axes>"
      ]
     },
     "metadata": {
      "needs_background": "light"
     },
     "output_type": "display_data"
    }
   ],
   "source": [
    "# Plot the distribution of age and income using the cleaned profile data set\n",
    "fig,ax=plt.subplots(1,2,figsize=(16,9))\n",
    "\n",
    "ax[0].hist(profile['age'])\n",
    "ax[0].set_title('Histogram of Age Distribution')\n",
    "ax[0].set_xlabel('Age')\n",
    "ax[0].set_ylabel('Count')\n",
    "\n",
    "ax[1].hist(profile['income'])\n",
    "ax[1].set_title('Histogram of Income Distribution')\n",
    "ax[1].set_xlabel('Income')\n",
    "ax[1].set_ylabel('Count');"
   ]
  },
  {
   "cell_type": "markdown",
   "metadata": {},
   "source": [
    "#### Summary1: There are 15% of people which are older than 88, I cannot believe they can order a coffee with an app and get it. Hence I drop these data. Also I drop the data which has gender as other since I believe gender will have a inpact on coffee preference and I donot want these other gender to bias the data. Lastly I only save the year when customers become members since I think the time they become a member will influence their decision when they get an offer.   "
   ]
  },
  {
   "cell_type": "markdown",
   "metadata": {},
   "source": [
    "## Portfolio"
   ]
  },
  {
   "cell_type": "code",
   "execution_count": 18,
   "metadata": {},
   "outputs": [
    {
     "data": {
      "text/html": [
       "<div>\n",
       "<style scoped>\n",
       "    .dataframe tbody tr th:only-of-type {\n",
       "        vertical-align: middle;\n",
       "    }\n",
       "\n",
       "    .dataframe tbody tr th {\n",
       "        vertical-align: top;\n",
       "    }\n",
       "\n",
       "    .dataframe thead th {\n",
       "        text-align: right;\n",
       "    }\n",
       "</style>\n",
       "<table border=\"1\" class=\"dataframe\">\n",
       "  <thead>\n",
       "    <tr style=\"text-align: right;\">\n",
       "      <th></th>\n",
       "      <th>reward</th>\n",
       "      <th>channels</th>\n",
       "      <th>difficulty</th>\n",
       "      <th>duration</th>\n",
       "      <th>offer_type</th>\n",
       "      <th>id</th>\n",
       "    </tr>\n",
       "  </thead>\n",
       "  <tbody>\n",
       "    <tr>\n",
       "      <th>0</th>\n",
       "      <td>10</td>\n",
       "      <td>[email, mobile, social]</td>\n",
       "      <td>10</td>\n",
       "      <td>7</td>\n",
       "      <td>bogo</td>\n",
       "      <td>ae264e3637204a6fb9bb56bc8210ddfd</td>\n",
       "    </tr>\n",
       "    <tr>\n",
       "      <th>1</th>\n",
       "      <td>10</td>\n",
       "      <td>[web, email, mobile, social]</td>\n",
       "      <td>10</td>\n",
       "      <td>5</td>\n",
       "      <td>bogo</td>\n",
       "      <td>4d5c57ea9a6940dd891ad53e9dbe8da0</td>\n",
       "    </tr>\n",
       "    <tr>\n",
       "      <th>2</th>\n",
       "      <td>0</td>\n",
       "      <td>[web, email, mobile]</td>\n",
       "      <td>0</td>\n",
       "      <td>4</td>\n",
       "      <td>informational</td>\n",
       "      <td>3f207df678b143eea3cee63160fa8bed</td>\n",
       "    </tr>\n",
       "    <tr>\n",
       "      <th>3</th>\n",
       "      <td>5</td>\n",
       "      <td>[web, email, mobile]</td>\n",
       "      <td>5</td>\n",
       "      <td>7</td>\n",
       "      <td>bogo</td>\n",
       "      <td>9b98b8c7a33c4b65b9aebfe6a799e6d9</td>\n",
       "    </tr>\n",
       "    <tr>\n",
       "      <th>4</th>\n",
       "      <td>5</td>\n",
       "      <td>[web, email]</td>\n",
       "      <td>20</td>\n",
       "      <td>10</td>\n",
       "      <td>discount</td>\n",
       "      <td>0b1e1539f2cc45b7b9fa7c272da2e1d7</td>\n",
       "    </tr>\n",
       "    <tr>\n",
       "      <th>5</th>\n",
       "      <td>3</td>\n",
       "      <td>[web, email, mobile, social]</td>\n",
       "      <td>7</td>\n",
       "      <td>7</td>\n",
       "      <td>discount</td>\n",
       "      <td>2298d6c36e964ae4a3e7e9706d1fb8c2</td>\n",
       "    </tr>\n",
       "    <tr>\n",
       "      <th>6</th>\n",
       "      <td>2</td>\n",
       "      <td>[web, email, mobile, social]</td>\n",
       "      <td>10</td>\n",
       "      <td>10</td>\n",
       "      <td>discount</td>\n",
       "      <td>fafdcd668e3743c1bb461111dcafc2a4</td>\n",
       "    </tr>\n",
       "    <tr>\n",
       "      <th>7</th>\n",
       "      <td>0</td>\n",
       "      <td>[email, mobile, social]</td>\n",
       "      <td>0</td>\n",
       "      <td>3</td>\n",
       "      <td>informational</td>\n",
       "      <td>5a8bc65990b245e5a138643cd4eb9837</td>\n",
       "    </tr>\n",
       "    <tr>\n",
       "      <th>8</th>\n",
       "      <td>5</td>\n",
       "      <td>[web, email, mobile, social]</td>\n",
       "      <td>5</td>\n",
       "      <td>5</td>\n",
       "      <td>bogo</td>\n",
       "      <td>f19421c1d4aa40978ebb69ca19b0e20d</td>\n",
       "    </tr>\n",
       "    <tr>\n",
       "      <th>9</th>\n",
       "      <td>2</td>\n",
       "      <td>[web, email, mobile]</td>\n",
       "      <td>10</td>\n",
       "      <td>7</td>\n",
       "      <td>discount</td>\n",
       "      <td>2906b810c7d4411798c6938adc9daaa5</td>\n",
       "    </tr>\n",
       "  </tbody>\n",
       "</table>\n",
       "</div>"
      ],
      "text/plain": [
       "   reward                      channels  difficulty  duration     offer_type  \\\n",
       "0      10       [email, mobile, social]          10         7           bogo   \n",
       "1      10  [web, email, mobile, social]          10         5           bogo   \n",
       "2       0          [web, email, mobile]           0         4  informational   \n",
       "3       5          [web, email, mobile]           5         7           bogo   \n",
       "4       5                  [web, email]          20        10       discount   \n",
       "5       3  [web, email, mobile, social]           7         7       discount   \n",
       "6       2  [web, email, mobile, social]          10        10       discount   \n",
       "7       0       [email, mobile, social]           0         3  informational   \n",
       "8       5  [web, email, mobile, social]           5         5           bogo   \n",
       "9       2          [web, email, mobile]          10         7       discount   \n",
       "\n",
       "                                 id  \n",
       "0  ae264e3637204a6fb9bb56bc8210ddfd  \n",
       "1  4d5c57ea9a6940dd891ad53e9dbe8da0  \n",
       "2  3f207df678b143eea3cee63160fa8bed  \n",
       "3  9b98b8c7a33c4b65b9aebfe6a799e6d9  \n",
       "4  0b1e1539f2cc45b7b9fa7c272da2e1d7  \n",
       "5  2298d6c36e964ae4a3e7e9706d1fb8c2  \n",
       "6  fafdcd668e3743c1bb461111dcafc2a4  \n",
       "7  5a8bc65990b245e5a138643cd4eb9837  \n",
       "8  f19421c1d4aa40978ebb69ca19b0e20d  \n",
       "9  2906b810c7d4411798c6938adc9daaa5  "
      ]
     },
     "execution_count": 18,
     "metadata": {},
     "output_type": "execute_result"
    }
   ],
   "source": [
    "# Check the portfolio data set\n",
    "portfolio"
   ]
  },
  {
   "cell_type": "code",
   "execution_count": 19,
   "metadata": {},
   "outputs": [
    {
     "data": {
      "text/html": [
       "<div>\n",
       "<style scoped>\n",
       "    .dataframe tbody tr th:only-of-type {\n",
       "        vertical-align: middle;\n",
       "    }\n",
       "\n",
       "    .dataframe tbody tr th {\n",
       "        vertical-align: top;\n",
       "    }\n",
       "\n",
       "    .dataframe thead th {\n",
       "        text-align: right;\n",
       "    }\n",
       "</style>\n",
       "<table border=\"1\" class=\"dataframe\">\n",
       "  <thead>\n",
       "    <tr style=\"text-align: right;\">\n",
       "      <th></th>\n",
       "      <th>reward</th>\n",
       "      <th>channels</th>\n",
       "      <th>difficulty</th>\n",
       "      <th>duration</th>\n",
       "      <th>offer_type</th>\n",
       "      <th>offer_id</th>\n",
       "    </tr>\n",
       "  </thead>\n",
       "  <tbody>\n",
       "    <tr>\n",
       "      <th>0</th>\n",
       "      <td>10</td>\n",
       "      <td>[email, mobile, social]</td>\n",
       "      <td>10</td>\n",
       "      <td>7</td>\n",
       "      <td>bogo</td>\n",
       "      <td>ae264e3637204a6fb9bb56bc8210ddfd</td>\n",
       "    </tr>\n",
       "    <tr>\n",
       "      <th>1</th>\n",
       "      <td>10</td>\n",
       "      <td>[web, email, mobile, social]</td>\n",
       "      <td>10</td>\n",
       "      <td>5</td>\n",
       "      <td>bogo</td>\n",
       "      <td>4d5c57ea9a6940dd891ad53e9dbe8da0</td>\n",
       "    </tr>\n",
       "    <tr>\n",
       "      <th>2</th>\n",
       "      <td>0</td>\n",
       "      <td>[web, email, mobile]</td>\n",
       "      <td>0</td>\n",
       "      <td>4</td>\n",
       "      <td>informational</td>\n",
       "      <td>3f207df678b143eea3cee63160fa8bed</td>\n",
       "    </tr>\n",
       "    <tr>\n",
       "      <th>3</th>\n",
       "      <td>5</td>\n",
       "      <td>[web, email, mobile]</td>\n",
       "      <td>5</td>\n",
       "      <td>7</td>\n",
       "      <td>bogo</td>\n",
       "      <td>9b98b8c7a33c4b65b9aebfe6a799e6d9</td>\n",
       "    </tr>\n",
       "    <tr>\n",
       "      <th>4</th>\n",
       "      <td>5</td>\n",
       "      <td>[web, email]</td>\n",
       "      <td>20</td>\n",
       "      <td>10</td>\n",
       "      <td>discount</td>\n",
       "      <td>0b1e1539f2cc45b7b9fa7c272da2e1d7</td>\n",
       "    </tr>\n",
       "    <tr>\n",
       "      <th>5</th>\n",
       "      <td>3</td>\n",
       "      <td>[web, email, mobile, social]</td>\n",
       "      <td>7</td>\n",
       "      <td>7</td>\n",
       "      <td>discount</td>\n",
       "      <td>2298d6c36e964ae4a3e7e9706d1fb8c2</td>\n",
       "    </tr>\n",
       "    <tr>\n",
       "      <th>6</th>\n",
       "      <td>2</td>\n",
       "      <td>[web, email, mobile, social]</td>\n",
       "      <td>10</td>\n",
       "      <td>10</td>\n",
       "      <td>discount</td>\n",
       "      <td>fafdcd668e3743c1bb461111dcafc2a4</td>\n",
       "    </tr>\n",
       "    <tr>\n",
       "      <th>7</th>\n",
       "      <td>0</td>\n",
       "      <td>[email, mobile, social]</td>\n",
       "      <td>0</td>\n",
       "      <td>3</td>\n",
       "      <td>informational</td>\n",
       "      <td>5a8bc65990b245e5a138643cd4eb9837</td>\n",
       "    </tr>\n",
       "    <tr>\n",
       "      <th>8</th>\n",
       "      <td>5</td>\n",
       "      <td>[web, email, mobile, social]</td>\n",
       "      <td>5</td>\n",
       "      <td>5</td>\n",
       "      <td>bogo</td>\n",
       "      <td>f19421c1d4aa40978ebb69ca19b0e20d</td>\n",
       "    </tr>\n",
       "    <tr>\n",
       "      <th>9</th>\n",
       "      <td>2</td>\n",
       "      <td>[web, email, mobile]</td>\n",
       "      <td>10</td>\n",
       "      <td>7</td>\n",
       "      <td>discount</td>\n",
       "      <td>2906b810c7d4411798c6938adc9daaa5</td>\n",
       "    </tr>\n",
       "  </tbody>\n",
       "</table>\n",
       "</div>"
      ],
      "text/plain": [
       "   reward                      channels  difficulty  duration     offer_type  \\\n",
       "0      10       [email, mobile, social]          10         7           bogo   \n",
       "1      10  [web, email, mobile, social]          10         5           bogo   \n",
       "2       0          [web, email, mobile]           0         4  informational   \n",
       "3       5          [web, email, mobile]           5         7           bogo   \n",
       "4       5                  [web, email]          20        10       discount   \n",
       "5       3  [web, email, mobile, social]           7         7       discount   \n",
       "6       2  [web, email, mobile, social]          10        10       discount   \n",
       "7       0       [email, mobile, social]           0         3  informational   \n",
       "8       5  [web, email, mobile, social]           5         5           bogo   \n",
       "9       2          [web, email, mobile]          10         7       discount   \n",
       "\n",
       "                           offer_id  \n",
       "0  ae264e3637204a6fb9bb56bc8210ddfd  \n",
       "1  4d5c57ea9a6940dd891ad53e9dbe8da0  \n",
       "2  3f207df678b143eea3cee63160fa8bed  \n",
       "3  9b98b8c7a33c4b65b9aebfe6a799e6d9  \n",
       "4  0b1e1539f2cc45b7b9fa7c272da2e1d7  \n",
       "5  2298d6c36e964ae4a3e7e9706d1fb8c2  \n",
       "6  fafdcd668e3743c1bb461111dcafc2a4  \n",
       "7  5a8bc65990b245e5a138643cd4eb9837  \n",
       "8  f19421c1d4aa40978ebb69ca19b0e20d  \n",
       "9  2906b810c7d4411798c6938adc9daaa5  "
      ]
     },
     "execution_count": 19,
     "metadata": {},
     "output_type": "execute_result"
    }
   ],
   "source": [
    "# Change the id column to offer_id column\n",
    "portfolio=portfolio.rename(columns={'id':'offer_id'})\n",
    "portfolio"
   ]
  },
  {
   "cell_type": "markdown",
   "metadata": {},
   "source": [
    "#### Summary2: This data set contains the type of offer and related data. I have no idea of how to deat with it yet. I will check the next data set and see what I can do with this data set.  "
   ]
  },
  {
   "cell_type": "markdown",
   "metadata": {},
   "source": [
    "## Transcript"
   ]
  },
  {
   "cell_type": "code",
   "execution_count": 20,
   "metadata": {},
   "outputs": [
    {
     "data": {
      "text/html": [
       "<div>\n",
       "<style scoped>\n",
       "    .dataframe tbody tr th:only-of-type {\n",
       "        vertical-align: middle;\n",
       "    }\n",
       "\n",
       "    .dataframe tbody tr th {\n",
       "        vertical-align: top;\n",
       "    }\n",
       "\n",
       "    .dataframe thead th {\n",
       "        text-align: right;\n",
       "    }\n",
       "</style>\n",
       "<table border=\"1\" class=\"dataframe\">\n",
       "  <thead>\n",
       "    <tr style=\"text-align: right;\">\n",
       "      <th></th>\n",
       "      <th>person</th>\n",
       "      <th>event</th>\n",
       "      <th>value</th>\n",
       "      <th>time</th>\n",
       "    </tr>\n",
       "  </thead>\n",
       "  <tbody>\n",
       "    <tr>\n",
       "      <th>303861</th>\n",
       "      <td>8dcbd64b4c664b5da20e8203ca26486c</td>\n",
       "      <td>transaction</td>\n",
       "      <td>{'amount': 0.4}</td>\n",
       "      <td>702</td>\n",
       "    </tr>\n",
       "    <tr>\n",
       "      <th>139917</th>\n",
       "      <td>ab147264895d4aebbb0fcbcde4ce3393</td>\n",
       "      <td>offer viewed</td>\n",
       "      <td>{'offer id': '4d5c57ea9a6940dd891ad53e9dbe8da0'}</td>\n",
       "      <td>372</td>\n",
       "    </tr>\n",
       "    <tr>\n",
       "      <th>34936</th>\n",
       "      <td>d404110ac63349a3972ef63e74490154</td>\n",
       "      <td>transaction</td>\n",
       "      <td>{'amount': 8.18}</td>\n",
       "      <td>66</td>\n",
       "    </tr>\n",
       "    <tr>\n",
       "      <th>233350</th>\n",
       "      <td>070a3bb5f2874b9da388626c84b4b64a</td>\n",
       "      <td>offer completed</td>\n",
       "      <td>{'offer_id': '9b98b8c7a33c4b65b9aebfe6a799e6d9', 'reward': 5}</td>\n",
       "      <td>540</td>\n",
       "    </tr>\n",
       "    <tr>\n",
       "      <th>85435</th>\n",
       "      <td>c18566c8d89149a3b87f828a6e22b47b</td>\n",
       "      <td>transaction</td>\n",
       "      <td>{'amount': 762.7}</td>\n",
       "      <td>216</td>\n",
       "    </tr>\n",
       "  </tbody>\n",
       "</table>\n",
       "</div>"
      ],
      "text/plain": [
       "                                  person            event  \\\n",
       "303861  8dcbd64b4c664b5da20e8203ca26486c      transaction   \n",
       "139917  ab147264895d4aebbb0fcbcde4ce3393     offer viewed   \n",
       "34936   d404110ac63349a3972ef63e74490154      transaction   \n",
       "233350  070a3bb5f2874b9da388626c84b4b64a  offer completed   \n",
       "85435   c18566c8d89149a3b87f828a6e22b47b      transaction   \n",
       "\n",
       "                                                                value  time  \n",
       "303861                                                {'amount': 0.4}   702  \n",
       "139917               {'offer id': '4d5c57ea9a6940dd891ad53e9dbe8da0'}   372  \n",
       "34936                                                {'amount': 8.18}    66  \n",
       "233350  {'offer_id': '9b98b8c7a33c4b65b9aebfe6a799e6d9', 'reward': 5}   540  \n",
       "85435                                               {'amount': 762.7}   216  "
      ]
     },
     "execution_count": 20,
     "metadata": {},
     "output_type": "execute_result"
    }
   ],
   "source": [
    "# Check transcript data set\n",
    "transcript.sample(5)"
   ]
  },
  {
   "cell_type": "code",
   "execution_count": 21,
   "metadata": {},
   "outputs": [
    {
     "name": "stdout",
     "output_type": "stream",
     "text": [
      "<class 'pandas.core.frame.DataFrame'>\n",
      "RangeIndex: 306534 entries, 0 to 306533\n",
      "Data columns (total 4 columns):\n",
      " #   Column  Non-Null Count   Dtype \n",
      "---  ------  --------------   ----- \n",
      " 0   person  306534 non-null  object\n",
      " 1   event   306534 non-null  object\n",
      " 2   value   306534 non-null  object\n",
      " 3   time    306534 non-null  int64 \n",
      "dtypes: int64(1), object(3)\n",
      "memory usage: 9.4+ MB\n"
     ]
    }
   ],
   "source": [
    "# Check general info of transcript\n",
    "transcript.info()"
   ]
  },
  {
   "cell_type": "code",
   "execution_count": 22,
   "metadata": {},
   "outputs": [
    {
     "name": "stdout",
     "output_type": "stream",
     "text": [
      "76277\n",
      "57725\n",
      "138953\n",
      "33579\n"
     ]
    }
   ],
   "source": [
    "# Check rows of different events\n",
    "print(transcript[transcript['event']=='offer received'].shape[0])\n",
    "print(transcript[transcript['event']=='offer viewed'].shape[0])\n",
    "print(transcript[transcript['event']=='transaction'].shape[0])\n",
    "print(transcript[transcript['event']=='offer completed'].shape[0])"
   ]
  },
  {
   "cell_type": "markdown",
   "metadata": {},
   "source": [
    "#### Summary3: From the numbers above it is obvious to see that among the 76277 offers sent, only 57725 offers were viewed. Then among these viewed offers, only 33579 offers were completed. It is possible that a customer finished an offer without viewing it. The correct sequence should be receiving offer, viewing offer, completing offer.  For the infomational offer the correct sequence should be viewing offer and transaction.  \n",
    "#### Hence next step I am going to seperate the portfolio data set into the part with info of viewing offer, the part with info of completing offer and the part of transaction. The part of receiving offer is not related with my investigation since in this project I am concerned with the customers who viewed and used the offers. Also, the time of completing offer must be later/larger than viewing offer and not exclude the duration of an offer. The time of transaction must be later/larger than viewing informational offer and not exclude the duration of the an offer.  "
   ]
  },
  {
   "cell_type": "markdown",
   "metadata": {},
   "source": [
    "# Data Cleaning  "
   ]
  },
  {
   "cell_type": "code",
   "execution_count": 23,
   "metadata": {},
   "outputs": [
    {
     "data": {
      "text/html": [
       "<div>\n",
       "<style scoped>\n",
       "    .dataframe tbody tr th:only-of-type {\n",
       "        vertical-align: middle;\n",
       "    }\n",
       "\n",
       "    .dataframe tbody tr th {\n",
       "        vertical-align: top;\n",
       "    }\n",
       "\n",
       "    .dataframe thead th {\n",
       "        text-align: right;\n",
       "    }\n",
       "</style>\n",
       "<table border=\"1\" class=\"dataframe\">\n",
       "  <thead>\n",
       "    <tr style=\"text-align: right;\">\n",
       "      <th></th>\n",
       "      <th>person</th>\n",
       "      <th>event</th>\n",
       "      <th>value</th>\n",
       "      <th>time</th>\n",
       "    </tr>\n",
       "  </thead>\n",
       "  <tbody>\n",
       "    <tr>\n",
       "      <th>106154</th>\n",
       "      <td>e46c47a54e254756bbc5c30ec010cc37</td>\n",
       "      <td>transaction</td>\n",
       "      <td>{'amount': 5.13}</td>\n",
       "      <td>306</td>\n",
       "    </tr>\n",
       "    <tr>\n",
       "      <th>237618</th>\n",
       "      <td>4a589fd32b3d4f60905efd0705bc19bd</td>\n",
       "      <td>transaction</td>\n",
       "      <td>{'amount': 6.84}</td>\n",
       "      <td>552</td>\n",
       "    </tr>\n",
       "    <tr>\n",
       "      <th>170486</th>\n",
       "      <td>bd232ba14e124b91a0adcac29dc1792e</td>\n",
       "      <td>transaction</td>\n",
       "      <td>{'amount': 8.67}</td>\n",
       "      <td>414</td>\n",
       "    </tr>\n",
       "    <tr>\n",
       "      <th>96298</th>\n",
       "      <td>ea25b858e08a4c8c8d8f299797e38374</td>\n",
       "      <td>transaction</td>\n",
       "      <td>{'amount': 12.89}</td>\n",
       "      <td>252</td>\n",
       "    </tr>\n",
       "    <tr>\n",
       "      <th>90155</th>\n",
       "      <td>20476d940d3a4ac5ab495104ba9b7dd1</td>\n",
       "      <td>transaction</td>\n",
       "      <td>{'amount': 16.5}</td>\n",
       "      <td>228</td>\n",
       "    </tr>\n",
       "  </tbody>\n",
       "</table>\n",
       "</div>"
      ],
      "text/plain": [
       "                                  person        event              value  time\n",
       "106154  e46c47a54e254756bbc5c30ec010cc37  transaction   {'amount': 5.13}   306\n",
       "237618  4a589fd32b3d4f60905efd0705bc19bd  transaction   {'amount': 6.84}   552\n",
       "170486  bd232ba14e124b91a0adcac29dc1792e  transaction   {'amount': 8.67}   414\n",
       "96298   ea25b858e08a4c8c8d8f299797e38374  transaction  {'amount': 12.89}   252\n",
       "90155   20476d940d3a4ac5ab495104ba9b7dd1  transaction   {'amount': 16.5}   228"
      ]
     },
     "execution_count": 23,
     "metadata": {},
     "output_type": "execute_result"
    }
   ],
   "source": [
    "transcript.sample(5)"
   ]
  },
  {
   "cell_type": "code",
   "execution_count": 24,
   "metadata": {},
   "outputs": [],
   "source": [
    "def df_seperate(df):\n",
    "    \"\"\"\n",
    "    This function seperate the transcript data set into 3 data set according to the event.\n",
    "    \"\"\"\n",
    "    # Change the person column to customer_id column\n",
    "    df=df.rename(columns={'person':'customer_id'})\n",
    "    \n",
    "    # Make df_view and rename columns\n",
    "    df_view=df[df['event']=='offer viewed']\n",
    "    df_view['offer_id']=df_view['value'].apply(lambda x: x['offer id'])\n",
    "    df_view.drop('value',inplace=True,axis=1)\n",
    "    df_view.rename(columns={'time':'time_view'},inplace=True)\n",
    "    \n",
    "    # Make df_completed and rename columns\n",
    "    df_completed=df[df['event']=='offer completed']\n",
    "    df_completed['offer_id']=df_completed['value'].apply(lambda x: x['offer_id'])\n",
    "    df_completed.drop('value',inplace=True,axis=1)\n",
    "    df_completed.rename(columns={'time':'time_completed'},inplace=True)\n",
    "    \n",
    "    # Make df_transaction and rename columns\n",
    "    df_transaction=df[df['event']=='transaction']\n",
    "    df_transaction.drop('value',inplace=True,axis=1)\n",
    "    df_transaction.rename(columns={'time':'time_transaction'},inplace=True)\n",
    "    \n",
    "    return df_view, df_completed, df_transaction\n",
    "\n",
    "df_view, df_completed, df_transaction=df_seperate(transcript)"
   ]
  },
  {
   "cell_type": "code",
   "execution_count": 25,
   "metadata": {},
   "outputs": [
    {
     "data": {
      "text/html": [
       "<div>\n",
       "<style scoped>\n",
       "    .dataframe tbody tr th:only-of-type {\n",
       "        vertical-align: middle;\n",
       "    }\n",
       "\n",
       "    .dataframe tbody tr th {\n",
       "        vertical-align: top;\n",
       "    }\n",
       "\n",
       "    .dataframe thead th {\n",
       "        text-align: right;\n",
       "    }\n",
       "</style>\n",
       "<table border=\"1\" class=\"dataframe\">\n",
       "  <thead>\n",
       "    <tr style=\"text-align: right;\">\n",
       "      <th></th>\n",
       "      <th>customer_id</th>\n",
       "      <th>event</th>\n",
       "      <th>time_view</th>\n",
       "      <th>offer_id</th>\n",
       "    </tr>\n",
       "  </thead>\n",
       "  <tbody>\n",
       "    <tr>\n",
       "      <th>12650</th>\n",
       "      <td>389bc3fa690240e798340f5a15918d5c</td>\n",
       "      <td>offer viewed</td>\n",
       "      <td>0</td>\n",
       "      <td>f19421c1d4aa40978ebb69ca19b0e20d</td>\n",
       "    </tr>\n",
       "  </tbody>\n",
       "</table>\n",
       "</div>"
      ],
      "text/plain": [
       "                            customer_id         event  time_view  \\\n",
       "12650  389bc3fa690240e798340f5a15918d5c  offer viewed          0   \n",
       "\n",
       "                               offer_id  \n",
       "12650  f19421c1d4aa40978ebb69ca19b0e20d  "
      ]
     },
     "execution_count": 25,
     "metadata": {},
     "output_type": "execute_result"
    }
   ],
   "source": [
    "df_view.head(1)"
   ]
  },
  {
   "cell_type": "code",
   "execution_count": 26,
   "metadata": {},
   "outputs": [
    {
     "data": {
      "text/html": [
       "<div>\n",
       "<style scoped>\n",
       "    .dataframe tbody tr th:only-of-type {\n",
       "        vertical-align: middle;\n",
       "    }\n",
       "\n",
       "    .dataframe tbody tr th {\n",
       "        vertical-align: top;\n",
       "    }\n",
       "\n",
       "    .dataframe thead th {\n",
       "        text-align: right;\n",
       "    }\n",
       "</style>\n",
       "<table border=\"1\" class=\"dataframe\">\n",
       "  <thead>\n",
       "    <tr style=\"text-align: right;\">\n",
       "      <th></th>\n",
       "      <th>customer_id</th>\n",
       "      <th>event</th>\n",
       "      <th>time_completed</th>\n",
       "      <th>offer_id</th>\n",
       "    </tr>\n",
       "  </thead>\n",
       "  <tbody>\n",
       "    <tr>\n",
       "      <th>12658</th>\n",
       "      <td>9fa9ae8f57894cc9a3b8a9bbe0fc1b2f</td>\n",
       "      <td>offer completed</td>\n",
       "      <td>0</td>\n",
       "      <td>2906b810c7d4411798c6938adc9daaa5</td>\n",
       "    </tr>\n",
       "  </tbody>\n",
       "</table>\n",
       "</div>"
      ],
      "text/plain": [
       "                            customer_id            event  time_completed  \\\n",
       "12658  9fa9ae8f57894cc9a3b8a9bbe0fc1b2f  offer completed               0   \n",
       "\n",
       "                               offer_id  \n",
       "12658  2906b810c7d4411798c6938adc9daaa5  "
      ]
     },
     "execution_count": 26,
     "metadata": {},
     "output_type": "execute_result"
    }
   ],
   "source": [
    "df_completed.head(1)"
   ]
  },
  {
   "cell_type": "code",
   "execution_count": 27,
   "metadata": {},
   "outputs": [
    {
     "data": {
      "text/html": [
       "<div>\n",
       "<style scoped>\n",
       "    .dataframe tbody tr th:only-of-type {\n",
       "        vertical-align: middle;\n",
       "    }\n",
       "\n",
       "    .dataframe tbody tr th {\n",
       "        vertical-align: top;\n",
       "    }\n",
       "\n",
       "    .dataframe thead th {\n",
       "        text-align: right;\n",
       "    }\n",
       "</style>\n",
       "<table border=\"1\" class=\"dataframe\">\n",
       "  <thead>\n",
       "    <tr style=\"text-align: right;\">\n",
       "      <th></th>\n",
       "      <th>customer_id</th>\n",
       "      <th>event</th>\n",
       "      <th>time_transaction</th>\n",
       "    </tr>\n",
       "  </thead>\n",
       "  <tbody>\n",
       "    <tr>\n",
       "      <th>12654</th>\n",
       "      <td>02c083884c7d45b39cc68e1314fec56c</td>\n",
       "      <td>transaction</td>\n",
       "      <td>0</td>\n",
       "    </tr>\n",
       "  </tbody>\n",
       "</table>\n",
       "</div>"
      ],
      "text/plain": [
       "                            customer_id        event  time_transaction\n",
       "12654  02c083884c7d45b39cc68e1314fec56c  transaction                 0"
      ]
     },
     "execution_count": 27,
     "metadata": {},
     "output_type": "execute_result"
    }
   ],
   "source": [
    "df_transaction.head(1)"
   ]
  },
  {
   "cell_type": "code",
   "execution_count": 28,
   "metadata": {},
   "outputs": [],
   "source": [
    "def merge_data(df_view,df_completed):\n",
    "    \"\"\"\n",
    "    This function merge the df_view and df_completed together.\n",
    "    \"\"\"\n",
    "    # dictionary of the offer_id and the duration\n",
    "    time_dict={'f19421c1d4aa40978ebb69ca19b0e20d':120,\n",
    "               '4d5c57ea9a6940dd891ad53e9dbe8da0':120,\n",
    "               '2298d6c36e964ae4a3e7e9706d1fb8c2':168,\n",
    "               'fafdcd668e3743c1bb461111dcafc2a4':240,\n",
    "               'ae264e3637204a6fb9bb56bc8210ddfd':168,\n",
    "               '9b98b8c7a33c4b65b9aebfe6a799e6d9':168,\n",
    "               '2906b810c7d4411798c6938adc9daaa5':168,\n",
    "               '0b1e1539f2cc45b7b9fa7c272da2e1d7':240}\n",
    "    \n",
    "    # Merge two data set together and calculate the difference of time\n",
    "    df_combine=df_view.merge(df_completed,on=['customer_id','offer_id'])\n",
    "    df_combine['time_diff']=df_combine['time_completed']-df_combine['time_view']\n",
    "    # Filter the table to find the customer who viewed and completed the offer\n",
    "    df_combine=df_combine[df_combine['time_diff']>0]\n",
    "    df_combine['diff']=df_combine['offer_id'].map(lambda x:time_dict[x])\n",
    "    df_combine=df_combine[df_combine['time_diff']<=df_combine['diff']]\n",
    "    df_combine=df_combine.drop(['event_x','time_view','event_y','time_completed','time_diff','diff'],axis=1)\n",
    "    \n",
    "    return df_combine\n",
    "\n",
    "df_offer_used=merge_data(df_view,df_completed)"
   ]
  },
  {
   "cell_type": "code",
   "execution_count": 29,
   "metadata": {},
   "outputs": [
    {
     "data": {
      "text/html": [
       "<div>\n",
       "<style scoped>\n",
       "    .dataframe tbody tr th:only-of-type {\n",
       "        vertical-align: middle;\n",
       "    }\n",
       "\n",
       "    .dataframe tbody tr th {\n",
       "        vertical-align: top;\n",
       "    }\n",
       "\n",
       "    .dataframe thead th {\n",
       "        text-align: right;\n",
       "    }\n",
       "</style>\n",
       "<table border=\"1\" class=\"dataframe\">\n",
       "  <thead>\n",
       "    <tr style=\"text-align: right;\">\n",
       "      <th></th>\n",
       "      <th>customer_id</th>\n",
       "      <th>offer_id</th>\n",
       "    </tr>\n",
       "  </thead>\n",
       "  <tbody>\n",
       "    <tr>\n",
       "      <th>0</th>\n",
       "      <td>389bc3fa690240e798340f5a15918d5c</td>\n",
       "      <td>f19421c1d4aa40978ebb69ca19b0e20d</td>\n",
       "    </tr>\n",
       "  </tbody>\n",
       "</table>\n",
       "</div>"
      ],
      "text/plain": [
       "                        customer_id                          offer_id\n",
       "0  389bc3fa690240e798340f5a15918d5c  f19421c1d4aa40978ebb69ca19b0e20d"
      ]
     },
     "execution_count": 29,
     "metadata": {},
     "output_type": "execute_result"
    }
   ],
   "source": [
    "df_offer_used.head(1)"
   ]
  },
  {
   "cell_type": "code",
   "execution_count": 30,
   "metadata": {},
   "outputs": [],
   "source": [
    "def merge_data_2(df_view,df_transaction):\n",
    "    \"\"\"\n",
    "    This function merge the df_view and df_transaction together.\n",
    "    \"\"\"\n",
    "    # dictionary of the offer_id and the duration\n",
    "    time_dict={'3f207df678b143eea3cee63160fa8bed':96,\n",
    "              '5a8bc65990b245e5a138643cd4eb9837':72}\n",
    "    \n",
    "    # Merge two data set together and calculate the difference of time\n",
    "    df_view=pd.concat([df_view[df_view['offer_id']=='3f207df678b143eea3cee63160fa8bed'],df_view[df_view['offer_id']=='5a8bc65990b245e5a138643cd4eb9837']])\n",
    "    df_combine=df_view.merge(df_transaction,on=['customer_id'])\n",
    "    df_combine['time_diff']=df_combine['time_transaction']-df_combine['time_view']\n",
    "    # Filter the table to find the customer who viewed and completed the offer\n",
    "    df_combine=df_combine[df_combine['time_diff']>0]\n",
    "    df_combine['diff']=df_combine['offer_id'].map(lambda x:time_dict[x])\n",
    "    df_combine=df_combine[df_combine['time_diff']<=df_combine['diff']]\n",
    "    df_combine=df_combine.drop(['event_x','time_view','event_y','time_transaction','time_diff','diff'],axis=1)\n",
    "    \n",
    "    return df_combine\n",
    "\n",
    "df_offer_info=merge_data_2(df_view,df_transaction)"
   ]
  },
  {
   "cell_type": "code",
   "execution_count": 31,
   "metadata": {},
   "outputs": [
    {
     "data": {
      "text/html": [
       "<div>\n",
       "<style scoped>\n",
       "    .dataframe tbody tr th:only-of-type {\n",
       "        vertical-align: middle;\n",
       "    }\n",
       "\n",
       "    .dataframe tbody tr th {\n",
       "        vertical-align: top;\n",
       "    }\n",
       "\n",
       "    .dataframe thead th {\n",
       "        text-align: right;\n",
       "    }\n",
       "</style>\n",
       "<table border=\"1\" class=\"dataframe\">\n",
       "  <thead>\n",
       "    <tr style=\"text-align: right;\">\n",
       "      <th></th>\n",
       "      <th>customer_id</th>\n",
       "      <th>offer_id</th>\n",
       "    </tr>\n",
       "  </thead>\n",
       "  <tbody>\n",
       "    <tr>\n",
       "      <th>0</th>\n",
       "      <td>5749731ed31948abb540a956963926ba</td>\n",
       "      <td>3f207df678b143eea3cee63160fa8bed</td>\n",
       "    </tr>\n",
       "  </tbody>\n",
       "</table>\n",
       "</div>"
      ],
      "text/plain": [
       "                        customer_id                          offer_id\n",
       "0  5749731ed31948abb540a956963926ba  3f207df678b143eea3cee63160fa8bed"
      ]
     },
     "execution_count": 31,
     "metadata": {},
     "output_type": "execute_result"
    }
   ],
   "source": [
    "df_offer_info.head(1)"
   ]
  },
  {
   "cell_type": "code",
   "execution_count": 32,
   "metadata": {},
   "outputs": [],
   "source": [
    "def merge_data_3(df_offer_used,df_offer_info):\n",
    "    \"\"\"\n",
    "    This function contact df_offer_used and df_offer_info firstly and then merge the new data table with the profile data set\n",
    "    \"\"\"\n",
    "    df_combine=pd.concat([df_offer_used,df_offer_info])\n",
    "    df_combine=df_combine.merge(profile,how='left',on='customer_id')\n",
    "    df_combine=df_combine.merge(portfolio,how='left',on='offer_id')\n",
    "    df_combine=df_combine.dropna(axis=0)\n",
    "    \n",
    "    return df_combine\n",
    "\n",
    "df_clean=merge_data_3(df_offer_used,df_offer_info)"
   ]
  },
  {
   "cell_type": "code",
   "execution_count": 33,
   "metadata": {},
   "outputs": [
    {
     "data": {
      "text/html": [
       "<div>\n",
       "<style scoped>\n",
       "    .dataframe tbody tr th:only-of-type {\n",
       "        vertical-align: middle;\n",
       "    }\n",
       "\n",
       "    .dataframe tbody tr th {\n",
       "        vertical-align: top;\n",
       "    }\n",
       "\n",
       "    .dataframe thead th {\n",
       "        text-align: right;\n",
       "    }\n",
       "</style>\n",
       "<table border=\"1\" class=\"dataframe\">\n",
       "  <thead>\n",
       "    <tr style=\"text-align: right;\">\n",
       "      <th></th>\n",
       "      <th>customer_id</th>\n",
       "      <th>offer_id</th>\n",
       "      <th>gender</th>\n",
       "      <th>age</th>\n",
       "      <th>became_member_on</th>\n",
       "      <th>income</th>\n",
       "      <th>reward</th>\n",
       "      <th>channels</th>\n",
       "      <th>difficulty</th>\n",
       "      <th>duration</th>\n",
       "      <th>offer_type</th>\n",
       "    </tr>\n",
       "  </thead>\n",
       "  <tbody>\n",
       "    <tr>\n",
       "      <th>0</th>\n",
       "      <td>389bc3fa690240e798340f5a15918d5c</td>\n",
       "      <td>f19421c1d4aa40978ebb69ca19b0e20d</td>\n",
       "      <td>M</td>\n",
       "      <td>65.0</td>\n",
       "      <td>2018.0</td>\n",
       "      <td>53000.0</td>\n",
       "      <td>5</td>\n",
       "      <td>[web, email, mobile, social]</td>\n",
       "      <td>5</td>\n",
       "      <td>5</td>\n",
       "      <td>bogo</td>\n",
       "    </tr>\n",
       "  </tbody>\n",
       "</table>\n",
       "</div>"
      ],
      "text/plain": [
       "                        customer_id                          offer_id gender  \\\n",
       "0  389bc3fa690240e798340f5a15918d5c  f19421c1d4aa40978ebb69ca19b0e20d      M   \n",
       "\n",
       "    age  became_member_on   income  reward                      channels  \\\n",
       "0  65.0            2018.0  53000.0       5  [web, email, mobile, social]   \n",
       "\n",
       "   difficulty  duration offer_type  \n",
       "0           5         5       bogo  "
      ]
     },
     "execution_count": 33,
     "metadata": {},
     "output_type": "execute_result"
    }
   ],
   "source": [
    "df_clean.head(1)"
   ]
  },
  {
   "cell_type": "code",
   "execution_count": 34,
   "metadata": {},
   "outputs": [
    {
     "name": "stdout",
     "output_type": "stream",
     "text": [
      "<class 'pandas.core.frame.DataFrame'>\n",
      "Int64Index: 29061 entries, 0 to 34044\n",
      "Data columns (total 11 columns):\n",
      " #   Column            Non-Null Count  Dtype  \n",
      "---  ------            --------------  -----  \n",
      " 0   customer_id       29061 non-null  object \n",
      " 1   offer_id          29061 non-null  object \n",
      " 2   gender            29061 non-null  object \n",
      " 3   age               29061 non-null  float64\n",
      " 4   became_member_on  29061 non-null  float64\n",
      " 5   income            29061 non-null  float64\n",
      " 6   reward            29061 non-null  int64  \n",
      " 7   channels          29061 non-null  object \n",
      " 8   difficulty        29061 non-null  int64  \n",
      " 9   duration          29061 non-null  int64  \n",
      " 10  offer_type        29061 non-null  object \n",
      "dtypes: float64(3), int64(3), object(5)\n",
      "memory usage: 2.7+ MB\n"
     ]
    }
   ],
   "source": [
    "# Check whether df_clean has nan values\n",
    "df_clean.info()"
   ]
  },
  {
   "cell_type": "code",
   "execution_count": 35,
   "metadata": {},
   "outputs": [
    {
     "data": {
      "text/html": [
       "<div>\n",
       "<style scoped>\n",
       "    .dataframe tbody tr th:only-of-type {\n",
       "        vertical-align: middle;\n",
       "    }\n",
       "\n",
       "    .dataframe tbody tr th {\n",
       "        vertical-align: top;\n",
       "    }\n",
       "\n",
       "    .dataframe thead th {\n",
       "        text-align: right;\n",
       "    }\n",
       "</style>\n",
       "<table border=\"1\" class=\"dataframe\">\n",
       "  <thead>\n",
       "    <tr style=\"text-align: right;\">\n",
       "      <th></th>\n",
       "      <th>customer_id</th>\n",
       "      <th>offer_type</th>\n",
       "      <th>used_times</th>\n",
       "      <th>gender</th>\n",
       "      <th>age</th>\n",
       "      <th>became_member_on</th>\n",
       "      <th>income</th>\n",
       "    </tr>\n",
       "  </thead>\n",
       "  <tbody>\n",
       "    <tr>\n",
       "      <th>10721</th>\n",
       "      <td>9c9d2659c4ec499288a96dec70fae500</td>\n",
       "      <td>bogo</td>\n",
       "      <td>1</td>\n",
       "      <td>M</td>\n",
       "      <td>65</td>\n",
       "      <td>2017</td>\n",
       "      <td>76000.0</td>\n",
       "    </tr>\n",
       "    <tr>\n",
       "      <th>4587</th>\n",
       "      <td>438b72c4145340d0951e2009351b2163</td>\n",
       "      <td>informational</td>\n",
       "      <td>2</td>\n",
       "      <td>F</td>\n",
       "      <td>57</td>\n",
       "      <td>2016</td>\n",
       "      <td>53000.0</td>\n",
       "    </tr>\n",
       "    <tr>\n",
       "      <th>6055</th>\n",
       "      <td>5903d05c8a724ebba7dacad6d6f8cd89</td>\n",
       "      <td>discount</td>\n",
       "      <td>1</td>\n",
       "      <td>M</td>\n",
       "      <td>71</td>\n",
       "      <td>2017</td>\n",
       "      <td>88000.0</td>\n",
       "    </tr>\n",
       "    <tr>\n",
       "      <th>13934</th>\n",
       "      <td>cc80480892f04ee0acabe628560965db</td>\n",
       "      <td>bogo</td>\n",
       "      <td>1</td>\n",
       "      <td>F</td>\n",
       "      <td>60</td>\n",
       "      <td>2016</td>\n",
       "      <td>80000.0</td>\n",
       "    </tr>\n",
       "    <tr>\n",
       "      <th>13717</th>\n",
       "      <td>c8be7ec18a5d4717ad94530e81e698c4</td>\n",
       "      <td>bogo</td>\n",
       "      <td>3</td>\n",
       "      <td>F</td>\n",
       "      <td>77</td>\n",
       "      <td>2017</td>\n",
       "      <td>109000.0</td>\n",
       "    </tr>\n",
       "  </tbody>\n",
       "</table>\n",
       "</div>"
      ],
      "text/plain": [
       "                            customer_id     offer_type  used_times gender  \\\n",
       "10721  9c9d2659c4ec499288a96dec70fae500           bogo           1      M   \n",
       "4587   438b72c4145340d0951e2009351b2163  informational           2      F   \n",
       "6055   5903d05c8a724ebba7dacad6d6f8cd89       discount           1      M   \n",
       "13934  cc80480892f04ee0acabe628560965db           bogo           1      F   \n",
       "13717  c8be7ec18a5d4717ad94530e81e698c4           bogo           3      F   \n",
       "\n",
       "       age  became_member_on    income  \n",
       "10721   65              2017   76000.0  \n",
       "4587    57              2016   53000.0  \n",
       "6055    71              2017   88000.0  \n",
       "13934   60              2016   80000.0  \n",
       "13717   77              2017  109000.0  "
      ]
     },
     "execution_count": 35,
     "metadata": {},
     "output_type": "execute_result"
    }
   ],
   "source": [
    "def merge_data_4(df_clean):\n",
    "    \"\"\"\n",
    "    This function group the df_clean table by customer_id and offer_id. Then count for each customer\n",
    "    which type of offer he/she used and how many times he/she used. Finally it merges the old table with\n",
    "    profile table together.\n",
    "    \"\"\"\n",
    "    df_clean=pd.DataFrame(df_clean.groupby(['customer_id','offer_type']).count()['gender']).reset_index()\n",
    "    df_clean=df_clean.rename(columns={'gender':'used_times'})\n",
    "    df_clean=df_clean.merge(profile,on='customer_id',how='inner')\n",
    "    \n",
    "    return df_clean\n",
    "\n",
    "df_clean=merge_data_4(df_clean)\n",
    "df_clean.sample(5)"
   ]
  },
  {
   "cell_type": "code",
   "execution_count": 36,
   "metadata": {},
   "outputs": [
    {
     "name": "stdout",
     "output_type": "stream",
     "text": [
      "<class 'pandas.core.frame.DataFrame'>\n",
      "Int64Index: 17500 entries, 0 to 17499\n",
      "Data columns (total 7 columns):\n",
      " #   Column            Non-Null Count  Dtype  \n",
      "---  ------            --------------  -----  \n",
      " 0   customer_id       17500 non-null  object \n",
      " 1   offer_type        17500 non-null  object \n",
      " 2   used_times        17500 non-null  int64  \n",
      " 3   gender            17500 non-null  object \n",
      " 4   age               17500 non-null  int64  \n",
      " 5   became_member_on  17500 non-null  int64  \n",
      " 6   income            17500 non-null  float64\n",
      "dtypes: float64(1), int64(3), object(3)\n",
      "memory usage: 1.1+ MB\n"
     ]
    }
   ],
   "source": [
    "# Check whether df_clean has missing values\n",
    "df_clean.info()"
   ]
  },
  {
   "cell_type": "markdown",
   "metadata": {},
   "source": [
    "#### Summary 4: I finished data cleaning and get df_clean data set, which has the ids of customer who used the offer and which kind of offer they used. Info about these customers are also recored in this table.  \n",
    "#### With this table in hand, I am going to solve the question I asked in the begining of this notebook: There are three types of offer, is there a trend that certain kind of people like to use certain kind of offer?  "
   ]
  },
  {
   "cell_type": "markdown",
   "metadata": {},
   "source": [
    "# Data Visualization"
   ]
  },
  {
   "cell_type": "code",
   "execution_count": 37,
   "metadata": {},
   "outputs": [],
   "source": [
    "df_clean.head(10)\n",
    "# seperate the df_clean into three tables according to offer type\n",
    "offer_bogo=df_clean[df_clean['offer_type']=='bogo']\n",
    "offer_discount=df_clean[df_clean['offer_type']=='discount']\n",
    "offer_info=df_clean[df_clean['offer_type']=='informational']"
   ]
  },
  {
   "cell_type": "code",
   "execution_count": 38,
   "metadata": {},
   "outputs": [],
   "source": [
    "def plot_distribution(df):\n",
    "    \"\"\"\n",
    "    This function plot histogram for general distribution of age and income of customers who use offer.\n",
    "    \"\"\"\n",
    "    # Seperate the df accoring to gender\n",
    "    df_male=df[df['gender']=='M']\n",
    "    df_female=df[df['gender']=='F']\n",
    "    counts = df['became_member_on'].value_counts()\n",
    "    counts_male=df_male['became_member_on'].value_counts()\n",
    "    counts_female=df_female['became_member_on'].value_counts()\n",
    "    \n",
    "    # Make the plots\n",
    "    fig,ax=plt.subplots(3,3,figsize=(16,9))\n",
    "\n",
    "    ax[0][0].hist(df_male['age'],bins=12)\n",
    "    ax[0][0].set_title('Age Distribution of Male Customers')\n",
    "    ax[0][0].set_xlabel('Age')\n",
    "    ax[0][0].set_ylabel('Count')\n",
    "    \n",
    "    ax[0][1].hist(df_male['income'],bins=30)\n",
    "    ax[0][1].set_title('Income Distribution of Male Customers')\n",
    "    ax[0][1].set_xlabel('Income')\n",
    "    ax[0][1].set_ylabel('Count')\n",
    "\n",
    "    ax[0][2].bar(counts_male.index, counts_male.values)\n",
    "    ax[0][2].set_title('Member Year Distribution of Male Customers')\n",
    "    ax[0][2].set_xlabel('Year')\n",
    "    ax[0][2].set_ylabel('Count')\n",
    "\n",
    "    ax[1][0].hist(df_female['age'],bins=12)\n",
    "    ax[1][0].set_title('Age Distribution of Female Customers')\n",
    "    ax[1][0].set_xlabel('Age')\n",
    "    ax[1][0].set_ylabel('Count')\n",
    "\n",
    "    ax[1][1].hist(df_female['income'],bins=30)\n",
    "    ax[1][1].set_title('Income Distribution of Female Customers')\n",
    "    ax[1][1].set_xlabel('Income')\n",
    "    ax[1][1].set_ylabel('Count')\n",
    "\n",
    "    ax[1][2].bar(counts_female.index, counts_female.values)\n",
    "    ax[1][2].set_title('Member Year Distribution of Female Customers')\n",
    "    ax[1][2].set_xlabel('Year')\n",
    "    ax[1][2].set_ylabel('Count')\n",
    "    \n",
    "    ax[2][0].hist(df['age'],bins=12)\n",
    "    ax[2][0].set_title('Age Distribution of All Customers')\n",
    "    ax[2][0].set_xlabel('Age')\n",
    "    ax[2][0].set_ylabel('Count')\n",
    "\n",
    "    ax[2][1].hist(df['income'],bins=30)\n",
    "    ax[2][1].set_title('Income Distribution of All Customers')\n",
    "    ax[2][1].set_xlabel('Income')\n",
    "    ax[2][1].set_ylabel('Count')\n",
    "\n",
    "    ax[2][2].bar(counts.index, counts.values)\n",
    "    ax[2][2].set_title('Member Year Distribution of All Customers')\n",
    "    ax[2][2].set_xlabel('Year')\n",
    "    ax[2][2].set_ylabel('Count')\n",
    "\n",
    "    plt.tight_layout();\n",
    "    \n",
    "    print('The ratio of male to female is {}.'.format(round(df_male.shape[0]/df_female.shape[0],2)))"
   ]
  },
  {
   "cell_type": "code",
   "execution_count": 39,
   "metadata": {},
   "outputs": [
    {
     "name": "stdout",
     "output_type": "stream",
     "text": [
      "The ratio of male to female is 1.11.\n"
     ]
    },
    {
     "data": {
      "image/png": "[encoded data removed]",
      "text/plain": [
       "<Figure size 1152x648 with 9 Axes>"
      ]
     },
     "metadata": {
      "needs_background": "light"
     },
     "output_type": "display_data"
    }
   ],
   "source": [
    "# Use the plot_distribution function to plot the data of buy one get one\n",
    "plot_distribution(offer_bogo)"
   ]
  },
  {
   "cell_type": "markdown",
   "metadata": {},
   "source": [
    "#### Conslusion1: Firstly, the male to female ratio is 1.11, which is less than the 1.50 in the profile data set. It is fair to say females are more likely to use the buy one get one offer compared to male. From the age distribution it is not hard to find people older than 50 are more like to use this offer. People with income from 50000 to 80000 are more likely to use the offer. It is possible that people with salary higher than 100000 tend to consume coffee with better quality and more expensive than the one offered buy Starbucks.  Most people become members in 2016 and 2017, maybe this service just start from 2013 and is not so expensive. In 2018 the number of members is decreased and it might influence the using rate of the buy one get one offer.  "
   ]
  },
  {
   "cell_type": "code",
   "execution_count": 40,
   "metadata": {},
   "outputs": [
    {
     "name": "stdout",
     "output_type": "stream",
     "text": [
      "The ratio of male to female is 1.31.\n"
     ]
    },
    {
     "data": {
      "image/png": "[encoded data removed]",
      "text/plain": [
       "<Figure size 1152x648 with 9 Axes>"
      ]
     },
     "metadata": {
      "needs_background": "light"
     },
     "output_type": "display_data"
    }
   ],
   "source": [
    "#  Use the plot_distribution function to plot the data of discount\n",
    "plot_distribution(offer_discount)"
   ]
  },
  {
   "cell_type": "markdown",
   "metadata": {},
   "source": [
    "#### Conslusion2: Firstly, the male to female ratio is 1.31, which is less than the 1.50 in the profile data set. It is fair to say females are more likely to use the discount offer compared to male. From the age distribution it is not hard to find people older than 50 are more like to use this offer. People with income from 50000 to 80000 are more likely to use the offer. It is possible that people with salary higher than 100000 tend to consume coffee with better quality and more expensive than the one offered buy Starbucks.  Most people become members in 2016 and 2017, maybe this service just start from 2013 and is not so expensive. In 2018 the number of members is decreased and it might influence the using rate of the discount offer.  "
   ]
  },
  {
   "cell_type": "code",
   "execution_count": 41,
   "metadata": {},
   "outputs": [
    {
     "name": "stdout",
     "output_type": "stream",
     "text": [
      "The ratio of male to female is 1.46.\n"
     ]
    },
    {
     "data": {
      "image/png": "[encoded data removed]",
      "text/plain": [
       "<Figure size 1152x648 with 9 Axes>"
      ]
     },
     "metadata": {
      "needs_background": "light"
     },
     "output_type": "display_data"
    }
   ],
   "source": [
    "#  Use the plot_distribution function to plot the data of informational offer\n",
    "plot_distribution(offer_info)"
   ]
  },
  {
   "cell_type": "markdown",
   "metadata": {},
   "source": [
    "#### Conslusion3: Firstly, the male to female ratio is 1.46, which is similar with the 1.50 in the profile data set. It is fair to say both males and females buy coffee in Star Bucks after they see the informational offer. From the age distribution it is not hard to find people older than 50 are more like to use this offer. People with income from 50000 to 80000 are more likely to use the offer. It is possible that people with salary higher than 100000 tend to consume coffee with better quality and more expensive than the one offered buy Starbucks.  Most people become members in 2016 and 2017, maybe this service just start from 2013 and is not so expensive. In 2018 the number of members is decreased and it might influence the using rate of the discount offer.  "
   ]
  },
  {
   "cell_type": "markdown",
   "metadata": {},
   "source": [
    "#### Final conclusion: The general trend is people who are older than 50 tend to use offers from Starbucks. For the real offers(which is buy one get one and discount), females are more proned to use them than males. People with salaries range around 50000 to 80000 are most likey to buy coffee from Star Bucks. It is interesting that the number of members decreased in 2018. Figuring out the reason of it might be helpful in making selling strategy.  In conclusion, it is reasonable to send more discount and buy one get one offers to females who are older than 50 and has a salary in between 50000 to 80000.  For the informational offer, it is reasonable to send the offer to equal amount of male and females.  \n",
    "#### Discussion: In the portfolio data set there are a lot of useful information such as channel, duration and reward. If more specific infomartion could be offered (for each offer which channel was used to send it), it is possible to combine these features to make a model to predict which type offer should be sent to which kind of customer.  "
   ]
  }
 ],
 "metadata": {
  "kernelspec": {
   "display_name": "Python 3",
   "language": "python",
   "name": "python3"
  },
  "language_info": {
   "codemirror_mode": {
    "name": "ipython",
    "version": 3
   },
   "file_extension": ".py",
   "mimetype": "text/x-python",
   "name": "python",
   "nbconvert_exporter": "python",
   "pygments_lexer": "ipython3",
   "version": "3.8.5"
  }
 },
 "nbformat": 4,
 "nbformat_minor": 2
}
